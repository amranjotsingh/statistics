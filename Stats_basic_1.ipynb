{
 "cells": [
  {
   "cell_type": "code",
   "execution_count": 1,
   "id": "40cd87be-94b7-4fcc-82c0-1026337cb237",
   "metadata": {},
   "outputs": [],
   "source": [
    "# Q1. What is Statistics"
   ]
  },
  {
   "cell_type": "code",
   "execution_count": 2,
   "id": "845154bc-f9c9-4d42-b9da-9445b6b594b6",
   "metadata": {},
   "outputs": [],
   "source": [
    "# Statistics is a branch of mathematics that deals with the collection, analysis, \n",
    "# interpretation, presentation, \n",
    "# and organization of data.\n",
    "# It involves using mathematical and statistical methods to draw conclusions and make decisions \n",
    "# based on data."
   ]
  },
  {
   "cell_type": "code",
   "execution_count": 3,
   "id": "a114dc54-970e-4c18-a114-b1b6f3518698",
   "metadata": {},
   "outputs": [],
   "source": [
    "# Q2. Define the different types of statistics and give an example of when each type might be used."
   ]
  },
  {
   "cell_type": "code",
   "execution_count": 4,
   "id": "7a29c44f-f83d-418f-a182-0cf4c080b809",
   "metadata": {},
   "outputs": [],
   "source": [
    "# There are two main types of statistics: descriptive statistics and inferential statistics.\n",
    "\n",
    "\n",
    "# Descriptive statistics is the branch of statistics that deals with the presentation and summary of data.\n",
    "# It involves organizing, summarizing and describing data in a meaningful way. \n",
    "# Examples of descriptive statistics include measures of central tendency such as mean, \n",
    "# median and mode, measures of variability such as range and standard deviation, and \n",
    "# graphical representations such as histograms and box plots. \n",
    "\n",
    "# Descriptive statistics can be used to describe the characteristics of a dataset,\n",
    "# such as the distribution of scores on a test, the average height of a group of people,\n",
    "# or the percentage of a population with a particular trait.\n",
    "\n",
    "\n",
    "# Inferential statistics is the branch of statistics that deals with making inferences \n",
    "# and predictions about a population based on a sample of data. It involves using probability \n",
    "# theory and statistical inference to draw conclusions about a larger population based on a \n",
    "# smaller sample. Examples of inferential statistics include hypothesis testing, confidence intervals,\n",
    "# and regression analysis. Inferential statistics can be used to test hypotheses, such as whether a \n",
    "# new drug is effective in treating a particular disease, or whether there is a relationship between \n",
    "# two variables, such as income and education level."
   ]
  },
  {
   "cell_type": "code",
   "execution_count": 8,
   "id": "4cc3e26c-1d85-4031-966b-c27d53f6a81a",
   "metadata": {},
   "outputs": [],
   "source": [
    "# Q3. What are the different types of data and how do they differ from each other? Provide an example of\n",
    "# each type of data."
   ]
  },
  {
   "cell_type": "code",
   "execution_count": null,
   "id": "7b97311c-0a79-4f98-9d14-18ca9edb2048",
   "metadata": {},
   "outputs": [],
   "source": [
    "# There are two main types of data: quantitative data and qualitative data.\n",
    "\n",
    "# Quantitative Data:\n",
    "# Quantitative data is numerical data that can be measured and expressed mathematically. \n",
    "# It is typically used to represent quantities or amounts, and can be either discrete or continuous. \n",
    "\n",
    "# Discrete data refers to data that can only take on certain specific values, \n",
    "# while continuous data can take on any value within a range. \n",
    "# Examples of quantitative data include height, weight, age, income, and temperature.\n",
    "\n",
    "# Qualitative Data:\n",
    "# Qualitative data is non-numerical data that cannot be measured or expressed mathematically. \n",
    "# It is typically used to represent qualities or characteristics, and can be either nominal or ordinal.\n",
    "\n",
    "# Nominal data refers to data that can be categorized into distinct groups or categories, \n",
    "\n",
    "# while ordinal data can be ranked or ordered.\n",
    "\n",
    "# Examples of qualitative data include gender, race, occupation, marital status, and favorite color."
   ]
  },
  {
   "cell_type": "code",
   "execution_count": 5,
   "id": "c241f0d9-fa96-49af-b26c-51edadecbe26",
   "metadata": {},
   "outputs": [],
   "source": [
    "# Q4. Categorise the following datasets with respect to quantitative and qualitative data types:\n",
    "# (i) Grading in exam: A+, A, B+, B, C+, C, D, E\n",
    "# (ii) Colour of mangoes: yellow, green, orange, red\n",
    "# (iii) Height data of a class: [178.9, 179, 179.5, 176, 177.2, 178.3, 175.8,...]\n",
    "# (iv) Number of mangoes exported by a farm: [500, 600, 478, 672, ...]"
   ]
  },
  {
   "cell_type": "code",
   "execution_count": 6,
   "id": "16957d76-699c-4eb4-8127-a15a2ceafceb",
   "metadata": {},
   "outputs": [],
   "source": [
    "# (i) Grading in exam: A+, A, B+, B, C+, C, D, E - Qualitative data\n",
    "# (ii) Colour of mangoes: yellow, green, orange, red - Qualitative data\n",
    "# (iii) Height data of a class: [178.9, 179, 179.5, 176, 177.2, 178.3, 175.8,...] - Quantitative data\n",
    "# (iv) Number of mangoes exported by a farm: [500, 600, 478, 672, ...] - Quantitative data"
   ]
  },
  {
   "cell_type": "code",
   "execution_count": null,
   "id": "0b16a72d-d770-4014-9c29-4e973ea478a9",
   "metadata": {},
   "outputs": [],
   "source": [
    "# Q5. Explain the concept of levels of measurement and give an example of a variable for each level."
   ]
  },
  {
   "cell_type": "code",
   "execution_count": 9,
   "id": "e9dd94e9-b6e9-4a65-bdfa-02014a33435e",
   "metadata": {},
   "outputs": [],
   "source": [
    "# Levels of measurement, also known as scales of measurement, \n",
    "# refer to the different ways in which data can be measured and classified. \n",
    "\n",
    "# There are four main levels of measurement: nominal, ordinal, interval, and ratio.\n",
    "\n",
    "# Nominal level of measurement:\n",
    "# Nominal data is used to label, classify or categorize observations into discrete categories.\n",
    "# Nominal data does not have any intrinsic order or ranking. \n",
    "# Examples of nominal data include gender, ethnicity, and marital status.\n",
    "\n",
    "# Ordinal level of measurement:\n",
    "# Ordinal data is used to rank or order observations based on their relative position. \n",
    "# However, ordinal data does not provide any information about the magnitude of the differences between\n",
    "# the observations. \n",
    "\n",
    "# Examples of ordinal data include education level (e.g., high school, college, \n",
    "# graduate school), and level of agreement on a survey (e.g., strongly agree, agree,\n",
    "# neutral, disagree, strongly disagree).\n",
    "\n",
    "# Interval level of measurement:\n",
    "# Interval data is used to measure data on a scale where the differences\n",
    "# between values are meaningful, \n",
    "# but there is no true zero point.\n",
    "\n",
    "# Examples of interval data include temperature measured in Celsius or Fahrenheit, \n",
    "# where zero does not represent the absence of temperature.\n",
    "\n",
    "# Ratio level of measurement:\n",
    "# Ratio data is used to measure data on a scale where the differences \n",
    "# between values are meaningful and there is a true zero point.\n",
    "\n",
    "# Examples of ratio data include weight, height, and age, where zero \n",
    "# represents the absence of the attribute being measured."
   ]
  },
  {
   "cell_type": "code",
   "execution_count": 10,
   "id": "d10e833c-9762-454d-a962-99fcc48f8ad3",
   "metadata": {},
   "outputs": [],
   "source": [
    "# Q6. Why is it important to understand the level of measurement when analyzing data? Provide an\n",
    "# example to illustrate your answer."
   ]
  },
  {
   "cell_type": "code",
   "execution_count": 11,
   "id": "dccbf973-58e7-4749-b575-fbebe02b4dfe",
   "metadata": {},
   "outputs": [],
   "source": [
    "# Understanding the level of measurement is important when analyzing data because it determines \n",
    "# the type of statistical analysis that can be performed on the data, and the types of conclusions that\n",
    "# can be drawn from the analysis. The level of measurement also affects the type of graphs \n",
    "# and visualizations that can be used to present the data.\n",
    "\n",
    "# For example, nominal data cannot be used to calculate meaningful numerical statistics \n",
    "# such as the mean or standard deviation, but can be used to calculate frequencies and \n",
    "# percentages. On the other hand, ratio data can be used to calculate meaningful numerical \n",
    "# statistics and ratios such as the mean, median, and standard deviation, as well as to perform \n",
    "# mathematical operations such as addition, subtraction, multiplication, and division.\n",
    "\n",
    "# Additionally, the level of measurement affects the type of graphs and visualizations \n",
    "# that can be used to present the data. For example, bar charts are commonly used to display nominal data,\n",
    "# while histograms and box plots are more suitable for displaying interval and ratio data.\n"
   ]
  },
  {
   "cell_type": "code",
   "execution_count": 12,
   "id": "5992688c-87d3-44d9-b631-41183bddff9d",
   "metadata": {},
   "outputs": [],
   "source": [
    "# Q7. How nominal data type is different from ordinal data type."
   ]
  },
  {
   "cell_type": "code",
   "execution_count": 13,
   "id": "a08f15ab-14ff-4232-804b-cf6e8e6dcfe0",
   "metadata": {},
   "outputs": [],
   "source": [
    "# Nominal and ordinal data are both types of categorical data, but they differ in terms of the level of measurement.\n",
    "\n",
    "# Nominal data is the lowest level of measurement and is used to categorize data into discrete categories,\n",
    "# without any intrinsic order or ranking. Nominal data simply names or labels the categories. \n",
    "# Examples of nominal data include gender (male, female), \n",
    "# marital status (married, single, divorced, widowed), and hair color (blonde, brown, black, red).\n",
    "\n",
    "# Ordinal data, on the other hand, is used to rank or order data based on their relative position, \n",
    "# without necessarily specifying the size of the differences between them. \n",
    "# In ordinal data, the categories have an inherent order or ranking. Examples \n",
    "# of ordinal data include educational attainment (elementary school, high school, \n",
    "# college, graduate school) or rating scales (poor, fair, good, excellent)."
   ]
  },
  {
   "cell_type": "code",
   "execution_count": 14,
   "id": "493def47-0a53-4431-bef4-fe306292b497",
   "metadata": {},
   "outputs": [],
   "source": [
    "# A box plot (also called a box-and-whisker plot) is a type of plot that can be \n",
    "# used to display data in terms of range. A box plot displays the distribution of \n",
    "# a dataset by showing the median, quartiles, and range of the data. \n",
    "# The box in the plot represents the interquartile range (IQR) and contains \n",
    "# 50% of the data, while the whiskers extend to the smallest and largest values \n",
    "# in the dataset that are within 1.5 times the IQR from the first and third quartiles,\n",
    "# respectively. \n",
    "# Any data points that fall outside of the whiskers are considered outliers"
   ]
  },
  {
   "cell_type": "code",
   "execution_count": 15,
   "id": "c5b75b51-b24b-4050-891d-43154e5698c3",
   "metadata": {},
   "outputs": [],
   "source": [
    "# To illustrate the difference between descriptive and inferential statistics, \n",
    "# consider the following example. Suppose a researcher is studying the \n",
    "# elationship between physical activity and heart disease. The researcher\n",
    "# collects data on the physical activity levels and heart disease status\n",
    "# of 1,000 adults. Descriptive statistics can be used to summarize the data \n",
    "# by calculating the mean, median, and standard deviation of physical activity \n",
    "# levels and heart disease rates in the sample. This information can provide insights\n",
    "# into the characteristics of the sample.\n",
    "\n",
    "\n",
    "# However, the researcher may also want to draw conclusions about the larger population \n",
    "# of adults based on the sample. Inferential statistics can be used to determine whether \n",
    "# the relationship between physical activity and heart disease found in the sample is likely \n",
    "# to be present in the larger population. For example, the researcher could use inferential \n",
    "# statistics to calculate a confidence interval or a hypothesis test to determine whether the \n",
    "# observed relationship is statistically significant or due to chance."
   ]
  },
  {
   "cell_type": "code",
   "execution_count": 16,
   "id": "bac6a370-67c1-45e7-b8bb-608868412317",
   "metadata": {},
   "outputs": [],
   "source": [
    "# Q10. What are some common measures of central tendency and variability used in statistics? Explain\n",
    "# how each measure can be used to describe a dataset."
   ]
  },
  {
   "cell_type": "code",
   "execution_count": null,
   "id": "caa54275-c68f-4b18-8cb0-c9bd5714334b",
   "metadata": {},
   "outputs": [],
   "source": [
    "# Measures of central tendency and variability are common statistical measures used to describe a dataset.\n",
    "\n",
    "# Measures of central tendency describe where the data cluster or center, while measures of variability\n",
    "# describe how spread out the data are around that center. Here are some common measures of central tendency \n",
    "# and variability:\n",
    "\n",
    "# Mean: The mean is the sum of all the values in a dataset divided by the number of values. \n",
    "# It is the most commonly used measure of central tendency. The mean is sensitive to outliers \n",
    "# and extreme values in the data.\n",
    "\n",
    "# Median: The median is the middle value in a dataset when the values are arranged in order.\n",
    "# It is less sensitive to outliers and extreme values than the mean.\n",
    "\n",
    "# Mode: The mode is the value that appears most frequently in a dataset. It is useful for\n",
    "# describing the shape of a distribution and identifying the most common value or values."
   ]
  }
 ],
 "metadata": {
  "kernelspec": {
   "display_name": "Python 3 (ipykernel)",
   "language": "python",
   "name": "python3"
  },
  "language_info": {
   "codemirror_mode": {
    "name": "ipython",
    "version": 3
   },
   "file_extension": ".py",
   "mimetype": "text/x-python",
   "name": "python",
   "nbconvert_exporter": "python",
   "pygments_lexer": "ipython3",
   "version": "3.10.8"
  }
 },
 "nbformat": 4,
 "nbformat_minor": 5
}
