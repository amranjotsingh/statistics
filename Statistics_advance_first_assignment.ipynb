{
 "cells": [
  {
   "cell_type": "markdown",
   "id": "58d487c9",
   "metadata": {},
   "source": [
    "**Q1. What is the Probability density function?**"
   ]
  },
  {
   "cell_type": "code",
   "execution_count": 1,
   "id": "3163194f",
   "metadata": {},
   "outputs": [],
   "source": [
    "# The Probability Density Function (PDF) is a fundamental concept in probability theory and statistics.\n",
    "# It describes the probability distribution of a continuous random variable. In simple terms, the PDF \n",
    "# represents the relative likelihood of different values occurring within a specific range of values.\n",
    "\n",
    "# The PDF is often denoted as f(x), where x represents the variable of interest. It is important to \n",
    "# note that the PDF is defined only for continuous random variables and not for discrete random variables.\n",
    "\n",
    "# Mathematically, the PDF is defined as the derivative of the cumulative distribution function (CDF) \n",
    "# with respect to the variable of interest. In symbols, if F(x) represents the CDF of a random variable X, \n",
    "# then the PDF f(x) is given by:\n",
    "\n",
    "# f(x) = dF(x) / dx\n",
    "\n",
    "# The PDF satisfies the following properties:\n",
    "\n",
    "# The PDF is always non-negative: f(x) ≥ 0 for all x.\n",
    "# The area under the PDF curve over the entire range of possible values is eq*"
   ]
  },
  {
   "cell_type": "markdown",
   "id": "3500e7d6",
   "metadata": {},
   "source": [
    "**Q2. What are the types of Probability distribution?**"
   ]
  },
  {
   "cell_type": "code",
   "execution_count": 2,
   "id": "ff0ee42a",
   "metadata": {},
   "outputs": [],
   "source": [
    "# There are several types of probability distributions in statistics. Each distribution has its own set \n",
    "# of characteristics and is appropriate for different types of data and situations. Here are some commonly\n",
    "# encountered probability distributions:\n",
    "    \n",
    "# Normal Distribution (Gaussian Distribution): The normal distribution is one of the most widely used distributions.\n",
    "#     It is characterized by a bell-shaped curve and is symmetric around its mean. Many natural phenomena \n",
    "#     and measurements tend to follow a normal distribution.\n",
    "    \n",
    "# Binomial Distribution: The binomial distribution describes the number of successes in a fixed number of \n",
    "#     independent Bernoulli trials, where each trial has two possible outcomes (success or failure) with a\n",
    "#     fixed probability of success.\n",
    "    \n",
    "# Poisson Distribution: The Poisson distribution models the number of events that occur in a fixed interval of\n",
    "#     time or space, given that the events occur with a constant rate and are independent of each other. \n",
    "#     It is commonly used to describe rare events.\n",
    "    \n",
    "# Uniform Distribution: The uniform distribution assigns equal probability to all outcomes within a specified \n",
    "#     range. It is often used when each possible outcome is equally likely.\n",
    "    \n",
    "    \n",
    "# Chi-Squared Distribution: The chi-squared distribution is often used in hypothesis testing and confidence \n",
    "#     interval estimation. It arises from the sum of squared independent standard normal random variables.\n",
    "    \n",
    "# Student's t-Distribution: The t-distribution is used when dealing with small sample sizes \n",
    "# and unknown population standard deviation. It is commonly used in hypothesis testing and confidence \n",
    "# interval estimation."
   ]
  },
  {
   "cell_type": "markdown",
   "id": "f98dc36b",
   "metadata": {},
   "source": [
    "**Q3. Write a Python function to calculate the probability density function of a normal distribution with\n",
    "given mean and standard deviation at a given point.**"
   ]
  },
  {
   "cell_type": "code",
   "execution_count": 13,
   "id": "87342290",
   "metadata": {},
   "outputs": [],
   "source": [
    "import math\n",
    "\n",
    "def normal_pdf(x, mean, std_dev):\n",
    "    coefficient = 1 / (std_dev * math.sqrt(2 * math.pi))\n",
    "    exponent = -((x - mean) ** 2) / (2 * std_dev ** 2)\n",
    "    pdf = coefficient * math.exp(exponent)\n",
    "    return pdf"
   ]
  },
  {
   "cell_type": "code",
   "execution_count": 14,
   "id": "c7816b23",
   "metadata": {},
   "outputs": [
    {
     "name": "stdout",
     "output_type": "stream",
     "text": [
      "PDF at x = 1.5 is 0.24197072451914337\n"
     ]
    }
   ],
   "source": [
    "mean = 0.5\n",
    "std_dev = 1\n",
    "x = 1.5\n",
    "\n",
    "pdf_value = normal_pdf(x, mean, std_dev)\n",
    "print(\"PDF at x =\", x, \"is\", pdf_value)\n"
   ]
  },
  {
   "cell_type": "markdown",
   "id": "ba181e74",
   "metadata": {},
   "source": [
    "**Q4. What are the properties of Binomial distribution? Give two examples of events where binomial\n",
    "distribution can be applied.**"
   ]
  },
  {
   "cell_type": "code",
   "execution_count": 15,
   "id": "cad52cef",
   "metadata": {},
   "outputs": [],
   "source": [
    "# The binomial distribution is a discrete probability distribution that models the number of successes \n",
    "# in a fixed number of independent Bernoulli trials, where each trial has two possible outcomes (success or failure)\n",
    "# with a fixed probability of success. The properties of the binomial distribution are as follows:\n",
    "    \n",
    "    \n",
    "# Fixed Number of Trials: The binomial distribution is defined for a fixed number of trials, denoted by 'n'. \n",
    "#     Each trial is independent and has two possible outcomes.\n",
    "\n",
    "# Independent Trials: Each trial in a binomial distribution is independent of the others. The outcome of \n",
    "#     one trial does not affect the outcome of any other trial.\n",
    "\n",
    "# Constant Probability: The probability of success, denoted by 'p', remains constant across all trials. \n",
    "#     Similarly, the probability of failure, denoted by 'q', is equal to 1 - p and remains constant.\n",
    "\n",
    "# Discrete Distribution: The binomial distribution is a discrete distribution since the number of successes \n",
    "#     can only take on integer values from 0 to the total number of trials.\n",
    "\n",
    "# Probability Mass Function (PMF): The probability mass function of the binomial distribution gives the \n",
    "#     probability of observing a specific number of successes in 'n' trials. It is given by the \n",
    "#     formula: P(X = k) = C(n, k) * p^k * q^(n-k), where X represents the random variable denoting the \n",
    "#         number of successes, k is the number of successes, and C(n, k) is the binomial coefficient.\n",
    "        \n",
    "        \n",
    "# Examples of events where the binomial distribution can be applied:\n",
    "\n",
    "# Flipping a Coin: Consider flipping a fair coin multiple times. Each flip can be considered a Bernoulli \n",
    "#     trial with two outcomes: success (getting heads) or failure (getting tails). The binomial distribution \n",
    "#         can be used to model the number of heads obtained in a fixed number of coin flips.\n",
    "\n",
    "# Quality Control: In manufacturing, a company may inspect a random sample of products for defects. Each product \n",
    "#     can be classified as either defective or non-defective. The binomial distribution can be used to model \n",
    "#     the number of defective products in a fixed sample size."
   ]
  },
  {
   "cell_type": "markdown",
   "id": "9cc03e75",
   "metadata": {},
   "source": [
    "**Q5. Generate a random sample of size 1000 from a binomial distribution with probability of success 0.4\n",
    "and plot a histogram of the results using matplotlib.**"
   ]
  },
  {
   "cell_type": "code",
   "execution_count": 25,
   "id": "abbc8794",
   "metadata": {},
   "outputs": [
    {
     "data": {
      "image/png": "[encoded data removed]",
      "text/plain": [
       "<Figure size 640x480 with 1 Axes>"
      ]
     },
     "metadata": {},
     "output_type": "display_data"
    }
   ],
   "source": [
    "import numpy as np\n",
    "import matplotlib.pyplot as plt\n",
    "\n",
    "# Set the parameters\n",
    "n = 1000  # Sample size\n",
    "p = 0.4  # Probability of success\n",
    "\n",
    "# Generate random sample from binomial distribution\n",
    "sample = np.random.binomial(n, p, size=1000)\n",
    "\n",
    "# Plot histogram\n",
    "plt.hist(sample, bins='auto', color='orange', alpha=0.8,)\n",
    "plt.xlabel('Number of Successes')\n",
    "plt.ylabel('Frequency')\n",
    "plt.title('Histogram of Binomial Distribution')\n",
    "plt.grid(True)\n",
    "plt.show()"
   ]
  },
  {
   "cell_type": "markdown",
   "id": "5991d971",
   "metadata": {},
   "source": [
    "**Q6. Write a Python function to calculate the cumulative distribution function of a Poisson distribution\n",
    "with given mean at a given point.**"
   ]
  },
  {
   "cell_type": "code",
   "execution_count": 26,
   "id": "841334e6",
   "metadata": {},
   "outputs": [],
   "source": [
    "import math\n",
    "\n",
    "def poisson_cdf(k, mean):\n",
    "    cdf = 0\n",
    "    for i in range(k + 1):\n",
    "        cdf += (math.exp(-mean) * mean**i) / math.factorial(i)\n",
    "    return cdf\n"
   ]
  },
  {
   "cell_type": "code",
   "execution_count": 27,
   "id": "6920340f",
   "metadata": {},
   "outputs": [
    {
     "name": "stdout",
     "output_type": "stream",
     "text": [
      "CDF at k = 5 is 0.9160820579686966\n"
     ]
    }
   ],
   "source": [
    "mean = 3\n",
    "k = 5\n",
    "\n",
    "cdf_value = poisson_cdf(k, mean)\n",
    "print(\"CDF at k =\", k, \"is\", cdf_value)"
   ]
  },
  {
   "cell_type": "markdown",
   "id": "8e771747",
   "metadata": {},
   "source": [
    "**Q7. How Binomial distribution different from Poisson distribution?**"
   ]
  },
  {
   "cell_type": "code",
   "execution_count": 34,
   "id": "f9815692",
   "metadata": {},
   "outputs": [],
   "source": [
    "# The Binomial distribution and the Poisson distribution are both probability distributions commonly used \n",
    "# in statistics. While they have similarities, they are fundamentally different in terms of their assumptions\n",
    "# and characteristics. Here are the main differences between the Binomial distribution and the Poisson distribution:\n",
    "    \n",
    "# Nature of Events: The Binomial distribution models the number of successes in a fixed number of independent \n",
    "#     Bernoulli trials, where each trial has two possible outcomes (success or failure) with a fixed probability \n",
    "#     of success. In contrast, the Poisson distribution models the number of events that occur in a fixed interval\n",
    "#     of time or space, given that the events occur with a constant rate and are independent of each other.\n",
    "\n",
    "# Assumptions: The Binomial distribution assumes that each trial is independent of others and that the probability \n",
    "#     of success remains constant across trials. It also assumes a fixed number of trials. On the other hand, the \n",
    "#     Poisson distribution assumes that the events occur randomly and independently at a constant average rate,\n",
    "#     and the events do not occur in clusters or overlap.\n",
    "\n",
    "# Discrete vs. Continuous: The Binomial distribution is a discrete distribution, meaning that the number of \n",
    "#     successes can only take on integer values. In contrast, the Poisson distribution is also typically treated\n",
    "#     as a discrete distribution, even though it models events occurring in continuous time or space. However, \n",
    "#     the Poisson distribution can be approximated by a continuous distribution in certain situations.\n",
    "\n",
    "# Parameterization: The Binomial distribution is parameterized by two values: the number of trials (n) and \n",
    "#         the probability of success (p). The Poisson distribution is parameterized by a single value, the \n",
    "#         average rate of events (λ).\n",
    "\n",
    "# Limiting Cases: As the number of trials in the Binomial distribution approaches infinity while the \n",
    "#     probability of success remains small, it converges to the Poisson distribution. In other words, \n",
    "#     the Poisson distribution can be seen as a limiting case of the Binomial distribution.\n",
    "\n",
    "# Use Cases: The Binomial distribution is commonly used when dealing with a fixed number of trials with \n",
    "#     a known probability of success, such as flipping a coin or conducting a series of experiments. The \n",
    "#     Poisson distribution is often used when modeling rare events, such as the number of phone calls received\n",
    "#     in a call center in a given time period or the number of accidents in a day.\n",
    "\n"
   ]
  },
  {
   "cell_type": "markdown",
   "id": "5a8c22be",
   "metadata": {},
   "source": [
    "**Q8. Generate a random sample of size 1000 from a Poisson distribution with mean 5 and calculate the\n",
    "sample mean and variance.**"
   ]
  },
  {
   "cell_type": "code",
   "execution_count": 31,
   "id": "3ab882f2",
   "metadata": {},
   "outputs": [],
   "source": [
    "n=1000\n",
    "mean = 5\n",
    "sample = np.random.poisson(mean,size=n)"
   ]
  },
  {
   "cell_type": "code",
   "execution_count": 32,
   "id": "787238c3",
   "metadata": {},
   "outputs": [
    {
     "data": {
      "text/plain": [
       "array([ 6,  6,  4,  5,  5,  4,  6,  4,  6,  5,  3,  8,  4,  4,  4, 10,  4,\n",
       "        7,  6,  5,  6,  5,  4,  3,  5,  2,  2,  5,  2,  5,  6,  6,  1,  2,\n",
       "        0,  7,  2,  4,  2,  5,  6,  6,  6,  5,  9,  5,  2,  0,  4,  2,  5,\n",
       "        4,  3,  2,  6,  8,  7,  3,  8,  2,  3,  4,  1, 10,  5,  3,  3,  6,\n",
       "        3,  5,  3,  8,  5,  9,  2,  5,  1, 10,  4,  7,  4,  3,  4,  9,  2,\n",
       "        2,  5,  5,  3,  7,  7,  5,  4,  3,  3,  7,  2,  4,  7,  7,  4,  3,\n",
       "        4,  5,  5,  3,  3,  5,  9,  4,  3,  2,  2,  6,  4,  6,  4,  8,  4,\n",
       "        6,  7,  3,  2,  9,  6,  2,  6,  3,  6,  6,  2,  5, 10,  6,  2,  4,\n",
       "        2,  6, 11,  4,  5,  6,  7,  0, 10,  3,  5,  5,  7,  9,  3,  6,  3,\n",
       "        9,  6,  4,  3,  7,  3,  3,  6,  4,  8,  8,  2,  5,  5,  3,  4,  8,\n",
       "        2,  5,  2,  6,  3,  8,  2,  4,  8,  2,  5,  8,  8,  5,  6,  2,  7,\n",
       "        3,  3,  2,  1,  7,  6,  3,  3,  3,  4, 11,  6,  5,  2,  4,  5,  3,\n",
       "        7,  3,  7,  1,  5,  7,  5,  5,  6,  4,  5,  7,  4,  8,  2,  2,  4,\n",
       "        5,  5,  9,  6,  5,  3,  4,  5,  5,  5,  6, 11,  5,  6,  3,  7,  6,\n",
       "        1,  4,  3,  4,  7,  4,  5,  8,  7,  4,  6,  8,  2,  5,  6,  3,  7,\n",
       "        5,  4,  6,  4,  6,  6,  3,  3,  5, 10,  6,  7,  5,  8,  6,  2,  3,\n",
       "        6,  7,  6,  3,  4,  6,  5,  3,  3,  8,  4,  2,  2,  4,  8,  2,  2,\n",
       "        6,  5,  5,  2,  2,  5,  4,  4,  3,  5, 12,  4,  8,  4,  9,  6,  3,\n",
       "        3,  3,  5,  6,  7,  1,  7,  5,  3,  4,  3,  8,  6,  5,  1,  7,  6,\n",
       "        4,  4, 10,  8,  2,  6,  6,  5,  3,  4,  6,  5,  6,  2,  7,  7,  6,\n",
       "        5,  2,  6,  9,  9, 11,  8,  4,  4,  7,  7, 11,  6,  3,  6, 10,  7,\n",
       "        2,  2,  7,  7,  4,  3,  8,  5,  9,  3,  4,  3,  3,  6,  5,  3,  7,\n",
       "        6,  6,  7,  4,  6,  2,  2,  0,  6,  5,  3,  1,  6,  5,  6,  5, 12,\n",
       "        2,  8, 10, 10,  8,  9,  3,  5,  7,  2,  4,  2,  3,  6,  4,  7,  7,\n",
       "        6,  4,  5,  6,  6,  6,  2,  2,  5,  6,  6,  2,  1,  2,  2,  6,  3,\n",
       "        3,  4,  7,  6,  2,  4,  5,  7,  2, 10,  7,  3,  6,  7,  4,  1,  4,\n",
       "        1,  3,  7,  4,  8,  5,  5,  1,  5,  3,  3,  4,  7,  2,  5,  4,  5,\n",
       "        7,  3,  7,  3,  5,  7,  6, 10,  4,  7,  4,  6,  9,  3,  4,  7,  9,\n",
       "        8,  7,  3,  7,  5,  6,  5,  9,  3,  7,  6,  6,  4,  6,  3,  8,  8,\n",
       "        2,  7,  2,  4, 10,  7,  6,  9,  3,  7,  2, 10,  6,  6,  5,  1,  5,\n",
       "        8,  7,  5,  3,  7,  5,  3,  3,  5,  6,  6,  2,  4,  8,  4,  7,  7,\n",
       "        8,  2,  5,  7,  5,  3,  4,  6,  5,  5,  2,  5,  5,  2,  3,  6,  2,\n",
       "        5,  4,  7,  6,  7,  3,  8,  4,  4,  6,  5,  2,  4,  4,  4, 10,  9,\n",
       "        9,  4,  5,  9,  4, 11,  6,  5,  4,  1,  3,  5,  5,  4,  6,  2,  3,\n",
       "        5,  3,  7,  5,  3,  3,  6,  7,  7,  5,  5,  7,  5,  2,  4,  5,  4,\n",
       "        2,  3,  6,  5,  4,  8,  5,  6,  8,  4,  4,  6,  4,  6,  6,  4,  3,\n",
       "        7,  7,  4,  9,  4,  3,  6,  2,  5,  5,  5,  5,  2,  3,  6,  8,  4,\n",
       "        4,  8,  7,  6,  9,  7,  7,  6,  5,  2,  7, 10,  2,  5,  3,  3,  6,\n",
       "        4,  4,  6,  5,  9,  5,  4,  8,  7,  3,  6,  2,  5,  6,  1,  4,  7,\n",
       "        4,  3,  6,  5,  4,  3,  7,  6,  4,  8,  5,  3,  6,  4,  1,  8,  7,\n",
       "        1,  2,  6,  4,  6,  5,  4,  7,  8,  7,  2,  5,  6,  4,  6,  3,  9,\n",
       "        7,  3,  4,  7,  3,  4, 10,  6,  6,  6,  4,  5,  4,  3,  4,  8,  8,\n",
       "        6,  3,  5,  3,  5,  2,  7,  4,  7,  4,  6,  2,  5,  2,  3,  6,  7,\n",
       "        5,  6,  5,  5,  3,  5,  6,  5,  6,  7,  4,  8,  3,  6,  4,  9,  5,\n",
       "        8,  7,  3,  3,  2,  2,  9,  4,  7,  5,  7,  4,  2,  4,  2,  4,  3,\n",
       "        1,  4,  5,  7,  9,  7,  5,  6,  6,  3,  6,  3,  5,  4,  2,  6,  2,\n",
       "        8,  5,  5,  7,  4,  8,  7,  6,  6,  5,  8,  9,  4,  4,  6,  5,  7,\n",
       "        9,  6,  8,  3,  6,  5,  7,  4,  5,  2,  8,  1,  7,  6,  4,  8,  8,\n",
       "        1,  3,  8,  6,  2,  2,  2,  3,  8,  3,  5,  4,  2,  2,  3,  4,  6,\n",
       "        7,  4,  5,  7,  3,  7,  9,  6,  3,  2,  3,  2,  1,  8, 10,  5,  9,\n",
       "        1,  5,  6,  4,  4,  5,  5,  8,  5,  1,  6,  9,  1,  9,  4,  6,  4,\n",
       "        2,  5,  4,  4,  4,  1,  4,  4,  4,  3,  5,  5,  9,  3,  5,  8,  1,\n",
       "        6,  5,  5,  4,  5,  5,  3,  5,  6,  5,  5,  4,  8,  7,  2,  4,  4,\n",
       "        6,  4,  4,  1,  7,  4,  6,  4,  6,  4,  3,  6,  5,  9,  4,  4,  7,\n",
       "        8, 11,  7,  4,  3,  8,  4,  6,  4,  4,  6,  4,  2,  9,  3,  4,  6,\n",
       "        5,  5,  3,  3,  4,  7,  5,  8,  5,  7,  4,  5,  4,  7,  6,  2,  4,\n",
       "        2,  6,  4,  3,  5,  9,  5,  3,  6,  7,  9,  4,  5,  3,  5,  6, 12,\n",
       "        4,  3,  8,  5,  1, 10,  7,  6,  6,  2,  7,  7,  4,  4,  6,  5,  4,\n",
       "        7,  4,  7,  5,  7, 11,  9,  6,  4,  8,  5,  6,  6,  5])"
      ]
     },
     "execution_count": 32,
     "metadata": {},
     "output_type": "execute_result"
    }
   ],
   "source": [
    "sample"
   ]
  },
  {
   "cell_type": "code",
   "execution_count": 33,
   "id": "ef9c02ac",
   "metadata": {},
   "outputs": [
    {
     "name": "stdout",
     "output_type": "stream",
     "text": [
      "Sample Mean: 5.035\n",
      "Sample Variance: 4.845775\n"
     ]
    }
   ],
   "source": [
    "# Calculate sample mean and variance\n",
    "sample_mean = np.mean(sample)\n",
    "sample_variance = np.var(sample)\n",
    "\n",
    "print(\"Sample Mean:\", sample_mean)\n",
    "print(\"Sample Variance:\", sample_variance)"
   ]
  },
  {
   "cell_type": "markdown",
   "id": "b6790944",
   "metadata": {},
   "source": [
    "**Q9. How mean and variance are related in Binomial distribution and Poisson distribution?**"
   ]
  },
  {
   "cell_type": "code",
   "execution_count": 35,
   "id": "502c20e6",
   "metadata": {},
   "outputs": [],
   "source": [
    "# In both the Binomial distribution and the Poisson distribution, the mean and variance are related,\n",
    "# but the nature of their relationship differs between the two distributions.\n",
    "\n",
    "# Binomial Distribution:\n",
    "# In the Binomial distribution, the mean (μ) and variance (σ^2) are related by the formula:\n",
    "# σ^2 = n * p * (1 - p)\n",
    "# where:\n",
    "\n",
    "# n represents the number of trials (sample size),\n",
    "# p represents the probability of success in each trial.\n",
    "# This relationship indicates that the variance increases as either the number of trials or the \n",
    "# probability of success deviates from 0.5. When the probability of success is close to 0 or 1, \n",
    "# the variance reaches its maximum.\n",
    "\n",
    "# In the Binomial distribution, the mean and variance do not have to be equal. The variance depends \n",
    "# on both the number of trials and the probability of success. As the number of trials increases, the \n",
    "# Binomial distribution becomes more symmetric and approaches a normal distribution.\n",
    "\n",
    "# Poisson Distribution:\n",
    "# In the Poisson distribution, the mean (λ) and variance (σ^2) are equal. This relationship is a key \n",
    "# property of the Poisson distribution. The mean and variance are both equal to the parameter λ.\n",
    "\n",
    "# Therefore, for a Poisson distribution, if the mean is λ, then the variance is also λ. This equality \n",
    "# holds regardless of the specific value of λ.\n",
    "\n",
    "# The equal mean and variance in the Poisson distribution signify that the variability of the distribution\n",
    "# is solely determined by the mean. As the mean increases, the distribution becomes more spread out, indicating \n",
    "# greater variability.\n",
    "\n"
   ]
  },
  {
   "cell_type": "markdown",
   "id": "333c5bc2",
   "metadata": {},
   "source": [
    "**Q10. In normal distribution with respect to mean position, where does the least frequent data appear?**"
   ]
  },
  {
   "cell_type": "code",
   "execution_count": null,
   "id": "939a120b",
   "metadata": {},
   "outputs": [],
   "source": [
    "# In a normal distribution, the least frequent data points appear in the tails of the distribution, farthest \n",
    "# away from the mean.\n",
    "\n",
    "# A normal distribution is symmetric, which means it is evenly balanced around its mean. The mean of a normal\n",
    "# distribution represents the central or average value of the data. The tails of the distribution extend in \n",
    "# both directions from the mean.\n",
    "\n",
    "# The least frequent data points in a normal distribution are located in the tails, specifically in the extreme\n",
    "# ends. These data points represent values that are significantly higher or lower than the mean.\n",
    "\n",
    "# Why are these values less frequent? It's because the normal distribution follows a characteristic shape known \n",
    "# as the \"bell curve.\" The curve is highest at the mean and gradually decreases as you move away from the mean\n",
    "# towards the tails. This indicates that values closer to the mean are more likely to occur, while values farther\n",
    "# away from the mean become increasingly rare.\n",
    "\n",
    "# In simple terms, the least frequent data points in a normal distribution are the ones that deviate the most from \n",
    "# the average or typical value represented by the mean. These extreme values occur in the tails of the distribution\n",
    "# and are relatively uncommon compared to the values near the mean."
   ]
  }
 ],
 "metadata": {
  "kernelspec": {
   "display_name": "Python 3 (ipykernel)",
   "language": "python",
   "name": "python3"
  },
  "language_info": {
   "codemirror_mode": {
    "name": "ipython",
    "version": 3
   },
   "file_extension": ".py",
   "mimetype": "text/x-python",
   "name": "python",
   "nbconvert_exporter": "python",
   "pygments_lexer": "ipython3",
   "version": "3.10.6"
  }
 },
 "nbformat": 4,
 "nbformat_minor": 5
}
