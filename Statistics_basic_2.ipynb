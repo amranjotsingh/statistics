{
 "cells": [
  {
   "cell_type": "markdown",
   "id": "c4f1b896",
   "metadata": {},
   "source": [
    "**Q1. What are the three measures of central tendency?**"
   ]
  },
  {
   "cell_type": "code",
   "execution_count": 1,
   "id": "aa68196e",
   "metadata": {},
   "outputs": [],
   "source": [
    "# The three measures of central tendency are the mean, median, and mode. \n",
    "# These measures provide a way to describe the central value of a set of data.\n",
    "\n",
    "# 1. Mean: The mean is calculated by summing up all the values in a dataset and dividing \n",
    "#          the sum by the total number of values. It is also referred to as the average.\n",
    "\n",
    "# For example, let's say we have a dataset of exam scores: {85, 90, 92, 78, 88}.\n",
    "# To find the mean, we add up all the scores (85 + 90 + 92 + 78 + 88 = 433) and \n",
    "# divide by the total number of scores (5). The mean is 433/5 = 86.6.\n",
    "\n",
    "\n",
    "# 2. Median: The median is the middle value in a dataset when the values are arranged in \n",
    "#     ascending or descending order. If there is an odd number of values, the median is the value at \n",
    "#     the center. If there is an even number of values, the median is the average of the two middle values.\n",
    "\n",
    "# For example, let's consider the dataset of exam scores: {85, 90, 92, 78, 88}. \n",
    "# When we arrange the scores in ascending order, we get {78, 85, 88, 90, 92}. \n",
    "# Since there is an odd number of values, the median is the middle value, which is 88.\n",
    "\n",
    "\n",
    "# 3. Mode: The mode is the value that appears most frequently in a dataset. \n",
    "#     It can be useful for finding the most common value or category. In some cases, \n",
    "#     there may be multiple modes (bimodal, trimodal, etc.) or no mode at all (no value appears more than once).\n",
    "\n",
    "\n",
    "# example, consider the dataset {85, 90, 92, 78, 88, 90, 92}. In this case, the mode is 90 and\n",
    "# 92 because both values appear twice, which is more frequently than the other values."
   ]
  },
  {
   "cell_type": "markdown",
   "id": "28e73b9e",
   "metadata": {},
   "source": [
    "**Q2. What is the difference between the mean, median, and mode? How are they used to measure the central tendency of a dataset?**"
   ]
  },
  {
   "cell_type": "code",
   "execution_count": 3,
   "id": "cf8be836",
   "metadata": {},
   "outputs": [],
   "source": [
    "# The mean, median, and mode are measures of central tendency that provide different information about \n",
    "# the center value of a dataset. Here are the key differences and uses of each measure:\n",
    "\n",
    "\n",
    "# Mean: The mean is the average value of a dataset. It is calculated by summing up all the values and dividing \n",
    "#     by the total number of values. The mean is sensitive to extreme values, as it takes into account every value \n",
    "#     in the dataset. It is commonly used when the data is numerical and follows a roughly symmetric distribution.\n",
    "#     The mean can be influenced by outliers, which are extreme values that are significantly different from the \n",
    "#     other values in the dataset.\n",
    "\n",
    "\n",
    "# Median: The median is the middle value in a dataset when the values are arranged in ascending or \n",
    "#     descending order. It is not affected by extreme values or outliers, as it only considers the position of \n",
    "#     values. The median is especially useful when dealing with skewed distributions or datasets with outliers.\n",
    "#     For example, if you have a dataset of income levels, where a few extremely high incomes are present, \n",
    "#     the median would provide a more representative measure of the typical income compared to the mean.\n",
    "\n",
    "\n",
    "# Mode: The mode is the value or values that appear most frequently in a dataset. It is useful for\n",
    "#     identifying the most common value or category in a dataset. The mode is often used with categorical \n",
    "#     or discrete data, such as survey responses or types of objects. It can also be used with numerical data,\n",
    "#     but it may not always provide a meaningful measure of central tendency, especially when there are multiple \n",
    "#     modes or no mode at all."
   ]
  },
  {
   "cell_type": "markdown",
   "id": "955378d6",
   "metadata": {},
   "source": [
    "**Q3. Measure the three measures of central tendency for the given height data**"
   ]
  },
  {
   "cell_type": "code",
   "execution_count": 4,
   "id": "8868b6ae",
   "metadata": {},
   "outputs": [],
   "source": [
    "data = [178,177,176,177,178.2,178,175,179,180,175,178.9,176.2,177,172.5,178,176.5]"
   ]
  },
  {
   "cell_type": "code",
   "execution_count": 11,
   "id": "5046a58a",
   "metadata": {},
   "outputs": [],
   "source": [
    "import numpy as np"
   ]
  },
  {
   "cell_type": "code",
   "execution_count": 13,
   "id": "b9c16984",
   "metadata": {},
   "outputs": [
    {
     "name": "stdout",
     "output_type": "stream",
     "text": [
      "177.01875\n"
     ]
    }
   ],
   "source": [
    "mean = np.mean(data)\n",
    "print(mean)"
   ]
  },
  {
   "cell_type": "code",
   "execution_count": 14,
   "id": "a5406645",
   "metadata": {},
   "outputs": [
    {
     "name": "stdout",
     "output_type": "stream",
     "text": [
      "177.0\n"
     ]
    }
   ],
   "source": [
    "median = np.median(data)\n",
    "print(median)"
   ]
  },
  {
   "cell_type": "code",
   "execution_count": 20,
   "id": "08bf85cc",
   "metadata": {},
   "outputs": [
    {
     "name": "stdout",
     "output_type": "stream",
     "text": [
      "178\n"
     ]
    }
   ],
   "source": [
    "import statistics\n",
    "mode = statistics.mode(data)\n",
    "print(mode)"
   ]
  },
  {
   "cell_type": "markdown",
   "id": "07a81547",
   "metadata": {},
   "source": [
    "**Q4. Find the standard deviation for the given data:**"
   ]
  },
  {
   "cell_type": "code",
   "execution_count": 21,
   "id": "d634f192",
   "metadata": {},
   "outputs": [],
   "source": [
    "data2 = [178,177,176,177,178.2,178,175,179,180,175,178.9,176.2,177,172.5,178,176.5]"
   ]
  },
  {
   "cell_type": "code",
   "execution_count": 24,
   "id": "e32b7bef",
   "metadata": {},
   "outputs": [
    {
     "name": "stdout",
     "output_type": "stream",
     "text": [
      "1.7885814036548633\n"
     ]
    }
   ],
   "source": [
    "stand_divation = np.std(data2)\n",
    "print(stand_divation)"
   ]
  },
  {
   "cell_type": "markdown",
   "id": "517472d2",
   "metadata": {},
   "source": [
    "**Q5. How are measures of dispersion such as range, variance, and standard deviation used to describe\n",
    "the spread of a dataset? Provide an example.**"
   ]
  },
  {
   "cell_type": "code",
   "execution_count": 25,
   "id": "ec2b19a7",
   "metadata": {},
   "outputs": [],
   "source": [
    "# Measures of dispersion, such as range, variance, and standard deviation, provide information about \n",
    "# the spread of a dataset. They quantify how much the values deviate from the central \n",
    "# tendency measures (such as mean or median). Here's an explanation of each measure and an example of their use:\n",
    "\n",
    "\n",
    "# Range: The range is the simplest measure of dispersion and represents the difference between the maximum \n",
    "#     and minimum values in a dataset. It gives an idea of the spread of the dataset but does not take into \n",
    "#     account the distribution of values. For example, consider a dataset of exam scores: {85, 90, 92, 78, 88}.\n",
    "#         The range is calculated as the difference between the maximum (92) and minimum (78) values, giving a\n",
    "#         range of 92 - 78 = 14.\n",
    "\n",
    "\n",
    "# Variance: Variance measures the average squared deviation of each data point from the mean. It provides a\n",
    "#     more comprehensive measure of dispersion by considering the distribution of values. A higher variance \n",
    "#     indicates greater variability, while a lower variance suggests more consistency. For example, let's use \n",
    "#     the same dataset: {85, 90, 92, 78, 88}. First, we calculate the mean (sum of values divided by the number \n",
    "#     of values): (85 + 90 + 92 + 78 + 88) / 5 = 86.6. Next, we calculate the squared deviations of each value from\n",
    "#     the mean: (85 - 86.6)^2, (90 - 86.6)^2, (92 - 86.6)^2, (78 - 86.6)^2, (88 - 86.6)^2. Finally, we calculate the \n",
    "#     average of these squared deviations, which gives us the variance.\n",
    "\n",
    "\n",
    "\n",
    "# Standard Deviation: The standard deviation is the square root of the variance. It measures the average amount \n",
    "#     of dispersion or deviation from the mean in the dataset. The standard deviation is widely used because it \n",
    "#     is in the same unit as the original data, making it easier to interpret. Using the previous example, after \n",
    "#     calculating the variance, we take the square root of the variance to obtain the standard deviation."
   ]
  },
  {
   "cell_type": "markdown",
   "id": "ffb8fbc3",
   "metadata": {},
   "source": [
    "**Q6. What is a Venn diagram?**"
   ]
  },
  {
   "cell_type": "code",
   "execution_count": 26,
   "id": "028c3b36",
   "metadata": {},
   "outputs": [],
   "source": [
    "# A Venn diagram is a visual representation that uses overlapping circles or other shapes to show the relationships\n",
    "# between different sets or groups of things. It helps to illustrate the common and unique elements or \n",
    "# characteristics among the sets being compared.\n",
    "\n",
    "# In simple terms, think of a Venn diagram as a way to organize information by showing how different groups or\n",
    "# categories overlap. Each circle in the diagram represents a specific group or category, and the overlapping \n",
    "# regions indicate the shared elements or attributes between those groups."
   ]
  },
  {
   "cell_type": "markdown",
   "id": "cc5c1712",
   "metadata": {},
   "source": [
    "**Q7. For the two given sets A = (2,3,4,5,6,7) & B = (0,2,6,8,10). Find:\n",
    "(i) A B\n",
    "(ii) A ⋃ B**"
   ]
  },
  {
   "cell_type": "code",
   "execution_count": 33,
   "id": "6ec5638a",
   "metadata": {},
   "outputs": [],
   "source": [
    "A = (2,3,4,5,6,7)\n",
    "B = (0,2,6,8,10)\n",
    "a_intersaction_b =[]\n",
    "a_union_b = []\n",
    "\n",
    "for i in A:\n",
    "    for j in B:\n",
    "        if j==i:\n",
    "            a_intersaction_b.append(j)"
   ]
  },
  {
   "cell_type": "code",
   "execution_count": 37,
   "id": "cf1d4df1",
   "metadata": {},
   "outputs": [
    {
     "data": {
      "text/plain": [
       "[2, 6]"
      ]
     },
     "execution_count": 37,
     "metadata": {},
     "output_type": "execute_result"
    }
   ],
   "source": [
    "a_intersaction_b"
   ]
  },
  {
   "cell_type": "code",
   "execution_count": 42,
   "id": "6ced9a86",
   "metadata": {},
   "outputs": [],
   "source": [
    "a_union_b = set(A).union(set(B))"
   ]
  },
  {
   "cell_type": "code",
   "execution_count": 43,
   "id": "f96f10a3",
   "metadata": {},
   "outputs": [
    {
     "data": {
      "text/plain": [
       "{0, 2, 3, 4, 5, 6, 7, 8, 10}"
      ]
     },
     "execution_count": 43,
     "metadata": {},
     "output_type": "execute_result"
    }
   ],
   "source": [
    "a_union_b"
   ]
  },
  {
   "cell_type": "markdown",
   "id": "46ed95b4",
   "metadata": {},
   "source": [
    "**Q8. What do you understand about skewness in data?**"
   ]
  },
  {
   "cell_type": "code",
   "execution_count": 44,
   "id": "d6c162db",
   "metadata": {},
   "outputs": [],
   "source": [
    "# Skewness is a statistical measure that helps us understand the shape of a distribution of data. \n",
    "# It tells us whether the data is concentrated more towards one tail of the distribution or whether it is balanced.\n",
    "\n",
    "# In simple terms, if a dataset is positively skewed, it means that the tail on the right side of the distribution\n",
    "# is longer or has more extreme values than the left side. This indicates that there are some unusually high values \n",
    "# that pull the distribution in that direction.\n",
    "\n",
    "\n",
    "# On the other hand, if a dataset is negatively skewed, it means that the tail on the left side of the distribution\n",
    "# is longer or has more extreme values than the right side. This suggests that there are some unusually low values \n",
    "# that drag the distribution in that direction.\n",
    "\n",
    "# In a symmetric distribution, the data is evenly distributed around the mean, and there is no skewness.\n",
    "\n",
    "# Skewness is important because it provides insights into the underlying characteristics of the data. \n",
    "# It helps us understand if there are any outliers or if the data is significantly deviating from a normal\n",
    "# or symmetrical pattern. Skewness can impact the interpretation of statistical analyses and the choice of \n",
    "# appropriate methods for data analysis."
   ]
  },
  {
   "cell_type": "markdown",
   "id": "45ffb1cf",
   "metadata": {},
   "source": [
    "**Q9. If a data is right skewed then what will be the position of median with respect to mean?**"
   ]
  },
  {
   "cell_type": "code",
   "execution_count": 45,
   "id": "3ab72321",
   "metadata": {},
   "outputs": [],
   "source": [
    "# If a dataset is right-skewed, it means that the tail on the right side of the distribution is longer or has more \n",
    "# extreme values than the left side. In this case, the distribution is pulled towards the higher values.\n",
    "\n",
    "# When a dataset is right-skewed, the mean tends to be greater than the median. The reason is that the mean \n",
    "# is influenced by extreme values or outliers in the right tail, which pulls the mean towards higher values.\n",
    "# As a result, the mean is typically larger than the median.\n",
    "\n",
    "# To visualize this, imagine a right-skewed dataset with a long tail on the right side. The extreme values in the\n",
    "# tail will have a greater impact on the mean, pulling it towards the right. On the other hand, the median \n",
    "# represents the middle value in the dataset, so it is less influenced by the extreme values in the tail. Therefore,\n",
    "# the median will be relatively smaller than the mean.\n",
    "\n",
    "# In summary, in a right-skewed distribution, the median will be smaller than the mean."
   ]
  },
  {
   "cell_type": "markdown",
   "id": "f242d4e5",
   "metadata": {},
   "source": [
    "**Q10. Explain the difference between covariance and correlation. How are these measures used in\n",
    "statistical analysis?**"
   ]
  },
  {
   "cell_type": "code",
   "execution_count": 46,
   "id": "5fd255a8",
   "metadata": {},
   "outputs": [],
   "source": [
    "# Covariance and correlation are both measures of the relationship between two variables, but they have some \n",
    "# differences in terms of their interpretation and properties.\n",
    "\n",
    "# Covariance:\n",
    "\n",
    "# Covariance measures the extent to which two variables change together. It quantifies the directional \n",
    "# relationship between variables.\n",
    "\n",
    "# Covariance can take on any value, positive or negative, depending on the direction of the relationship.\n",
    "\n",
    "# The magnitude of covariance is not standardized and depends on the units of the variables.\n",
    "\n",
    "# Covariance is affected by the scale of the variables, making it difficult to compare across different datasets or variables.\n",
    "\n",
    "\n",
    "# Correlation:\n",
    "\n",
    "# Correlation measures the strength and direction of the linear relationship between two variables.\n",
    "\n",
    "# Correlation is always between -1 and 1, where 1 represents a perfect positive linear relationship, -1 represents \n",
    "# a perfect negative linear relationship, and 0 indicates no linear relationship.\n",
    "\n",
    "# Correlation is a standardized measure, meaning it is not affected by the scale of the variables. It allows for \n",
    "# comparisons across different datasets and variables.\n",
    "\n",
    "# Correlation is sensitive to linear relationships but may not capture non-linear relationships between variables."
   ]
  },
  {
   "cell_type": "markdown",
   "id": "b821d935",
   "metadata": {},
   "source": [
    "**Q11. What is the formula for calculating the sample mean? Provide an example calculation for a\n",
    "dataset.**"
   ]
  },
  {
   "cell_type": "code",
   "execution_count": 47,
   "id": "5cb936ab",
   "metadata": {},
   "outputs": [],
   "source": [
    "# The formula for calculating the sample mean, denoted by x̄ (pronounced \"x-bar\"), is the sum of all the values \n",
    "# in the dataset divided by the total number of values in the dataset. Mathematically, it can be represented as:\n",
    "\n",
    "# x̄ = (x₁ + x₂ + x₃ + ... + xn) / n\n",
    "\n",
    "# where x₁, x₂, x₃, ..., xn are the individual values in the dataset, and n is the total number of \n",
    "# values in the dataset."
   ]
  },
  {
   "cell_type": "code",
   "execution_count": 48,
   "id": "240ab6bc",
   "metadata": {},
   "outputs": [
    {
     "name": "stdout",
     "output_type": "stream",
     "text": [
      "Sample Mean: 85.0\n"
     ]
    }
   ],
   "source": [
    "dataset = [80, 85, 90, 75, 95]\n",
    "\n",
    "sample_mean = sum(dataset) / len(dataset)\n",
    "\n",
    "print(\"Sample Mean:\", sample_mean)\n"
   ]
  },
  {
   "cell_type": "markdown",
   "id": "c2f28ea7",
   "metadata": {},
   "source": [
    "**Q12. For a normal distribution data what is the relationship between its measure of central tendency?**"
   ]
  },
  {
   "cell_type": "code",
   "execution_count": 50,
   "id": "6a7c2731",
   "metadata": {},
   "outputs": [],
   "source": [
    "# In a normal distribution, the measures of central tendency—mean, median, and mode—have a specific relationship:\n",
    "\n",
    "# Mean: In a normal distribution, the mean is located at the center of the distribution. It coincides with the peak \n",
    "#     of the distribution, which is also the point of symmetry. Therefore, the mean is equal to the median in \n",
    "#     a normal distribution.\n",
    "\n",
    "# Median: As mentioned above, the median of a normal distribution is equal to the mean. Since the normal distribution\n",
    "#     is symmetric, the middle value or the median is the same as the mean value. This means that 50% of the data \n",
    "#     falls below the median, and 50% falls above it.\n",
    "\n",
    "# Mode: In a normal distribution, the mode is also located at the peak of the distribution, which is the same as \n",
    "#     the mean and median. Thus, in a normal distribution, the mode is equal to the mean and median.\n",
    "\n",
    "# In summary, for a normal distribution, the mean, median, and mode are all equal and located at the center of \n",
    "# the distribution. This indicates that the data is symmetrically distributed around this central value."
   ]
  },
  {
   "cell_type": "markdown",
   "id": "001838e0",
   "metadata": {},
   "source": [
    "**Q13. How is covariance different from correlation?**"
   ]
  },
  {
   "cell_type": "code",
   "execution_count": 52,
   "id": "7918af55",
   "metadata": {},
   "outputs": [],
   "source": [
    "# Definition:\n",
    "\n",
    "# Covariance measures the extent to which two variables change together. It quantifies the directional relationship\n",
    "# between variables.\n",
    "# Correlation measures the strength and direction of the linear relationship between two variables. It indicates \n",
    "# how closely the data points align to a straight line.\n",
    "\n",
    "# Scale:\n",
    "\n",
    "# Covariance is not standardized and can take on any value. The magnitude of covariance is affected by the units \n",
    "# of the variables.\n",
    "# Correlation is always between -1 and 1. It is a standardized measure and is not influenced by the scale of \n",
    "# the variables.\n",
    "\n",
    "# Interpretation:\n",
    "\n",
    "# Covariance does not provide a clear indication of the strength or direction of the relationship between variables \n",
    "# due to its units.\n",
    "# Correlation provides a more straightforward interpretation. A correlation value close to 1 or -1 indicates a \n",
    "# strong linear relationship, while a value close to 0 indicates a weak or no linear relationship.\n",
    "\n",
    "# Comparability:\n",
    "\n",
    "# Covariance values are not easily comparable across different datasets or variables due to their scale and units.\n",
    "# Correlation values are standardized and allow for comparisons across different datasets or variables. They\n",
    "# provide a consistent measure of the strength and direction of the linear relationship.\n",
    "\n",
    "# Sensitivity to Outliers:\n",
    "\n",
    "# Covariance is sensitive to outliers in the data and can be significantly affected by extreme values.\n",
    "# Correlation is less sensitive to outliers, as it measures the strength of the linear relationship rather than \n",
    "# the actual values themselves."
   ]
  },
  {
   "cell_type": "markdown",
   "id": "bdb665cd",
   "metadata": {},
   "source": [
    "**Q14. How do outliers affect measures of central tendency and dispersion? Provide an example.**"
   ]
  },
  {
   "cell_type": "code",
   "execution_count": 54,
   "id": "9c20e81e",
   "metadata": {},
   "outputs": [],
   "source": [
    "# Outliers can have a significant impact on measures of central tendency and dispersion.\n",
    "# Let's explore their effects with the help of an example:\n",
    "\n",
    "# Consider the following dataset of exam scores: 75, 80, 85, 90, 95, 100, 500.\n",
    "\n",
    "# Measures of Central Tendency:\n",
    "\n",
    "# Mean: The mean is sensitive to outliers because it takes into account all the values in the dataset. \n",
    "#     In this example, the outlier value of 500 is much larger than the other scores. As a result, \n",
    "#     the mean is greatly influenced by this outlier and becomes an unreliable representation of the typical \n",
    "#     scores in the dataset. In this case, the mean is significantly higher than what might be expected based \n",
    "#     on the other scores.\n",
    "\n",
    "# Median: The median is less affected by outliers since it represents the middle value in the dataset. \n",
    "#     In this example, the median is not influenced by the outlier value of 500 and remains the same as the \n",
    "#     value of 90. The median provides a more robust measure of central tendency in the presence of outliers.\n",
    "\n",
    "# Mode: The mode is the most frequent value in the dataset. In this example, there is no mode as no value repeats.\n",
    "#     Outliers typically do not impact the mode since it focuses on the frequency of values rather than their \n",
    "#     magnitude.\n",
    "\n",
    "# Measures of Dispersion:\n",
    "\n",
    "# Range: The range is the difference between the maximum and minimum values in the dataset. \n",
    "#     In this example, the outlier value of 500 significantly increases the range compared \n",
    "#     to the rest of the scores. Thus, the range becomes larger and does not accurately reflect the\n",
    "#     spread of the typical scores.\n",
    "\n",
    "# Variance and Standard Deviation: Both variance and standard deviation are sensitive to outliers.\n",
    "#     The presence of an outlier, such as the value of 500, can substantially increase the variance \n",
    "#     and standard deviation. This is because these measures are based on the squared differences\n",
    "#     from the mean, and outliers tend to have large squared differences, thereby inflating the measures."
   ]
  },
  {
   "cell_type": "code",
   "execution_count": null,
   "id": "41159e8a",
   "metadata": {},
   "outputs": [],
   "source": []
  }
 ],
 "metadata": {
  "kernelspec": {
   "display_name": "Python 3 (ipykernel)",
   "language": "python",
   "name": "python3"
  },
  "language_info": {
   "codemirror_mode": {
    "name": "ipython",
    "version": 3
   },
   "file_extension": ".py",
   "mimetype": "text/x-python",
   "name": "python",
   "nbconvert_exporter": "python",
   "pygments_lexer": "ipython3",
   "version": "3.10.6"
  }
 },
 "nbformat": 4,
 "nbformat_minor": 5
}
